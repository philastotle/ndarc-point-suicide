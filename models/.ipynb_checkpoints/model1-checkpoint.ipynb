{
 "cells": [
  {
   "cell_type": "markdown",
   "metadata": {},
   "source": [
    "# Suicide Prediction using Machine Learning.\n",
    "\n",
    "Here is the outline of the procedure:\n",
    "1. Question\n",
    "2. Understand the data\n",
    "3. Manipulate the data\n",
    "4. Fit & test models\n",
    "5. Deploy models\n",
    "\n",
    "## 1. Question\n",
    "\n",
    "Due to the random nature of suicidality, traditional statistical methods have reported poor performance (SOURCE). This can be attributed to the notion that no single risk factor or risk assessment approach can be directly applied to suicide prediction with great accuracy. This makes relying on few strong predictors implausible and places greater emphasis on examining a larger number of factors. This requirement of complex combinations of hundreds of factors, is not ideal for traditional statistical methods. Furthermore, traditional statistical methods require the ideal algorithm to be designed before the collection of the data (a priori) to account for certain assumptions. In contrast, DL algorithms are self-optimizing and increase their predictive performance automatically through a method called back-propagation. This use of optimization means that the DL algorithm instead, learns from the data itself giving the analyst data driven insights. This also allows DL algorithms to harness high-dimensional data where the large number of predictors allow it to learn the appropriate parameters which can be applied to future datasets. Finally, a meta-analysis by Franklin et al., (2017) found that traditional statistical methods in suicide attempts have only produced models with near chance level predictive performance, highlighting a need for more advanced data driven methods. \n",
    "\n",
    "Emerging DL research in suicidality has shown promising results compared to traditional methods. Hack et al. (2017) examined suicidality in the Grady Trauma project for those looking for primary care in large urban hospitals. Their dataset comprised of 1017 participants, split into training and test sets (80/20) both of which had stratified 16% suicide attempters. They deployed Support Vector Machines (SVMs) and least absolute shrinkage and selection operator (LASSO) models with 100 iterations of which scored an area under the curve (AUC) of 70% and 71% respectively. Walsh et al (2017) used machine learning to predict suicide attempts from electronic health records. They developed a Random Forest algorithm that utilises an ensemble of decision trees and was run for 500 iterations. Their model accurately predicted future suicide attempts with an AUC of 0.84 and found that accuracy improved from 720 days to 7 days before the suicide attempt.  \n",
    "\n",
    "Walsh et al., (2017) found that “recurrent depression with psychosis, schizophrenia, and schizoaffective disorder were consistently ranked highly in importance. Age and diagnoses of dependence on opioids, sedative-hypnotics, and cannabis increased in relative importance as prediction windows shortened. Some codes that likely indicate prior suicide attempts were also consistently predictive: poisoning, the most common mechanism of prior nonfatal suicide attempts in these data; injuries by firearms; and injuries “NEC” or not elsewhere classifiable. Medication classes such as selective serotonin reuptake inhibitors (SSRIs), benzodiazepines, anilides (such as acetaminophen), and propionic acid derivatives (such as ibuprofen) appear stronger within longer prediction windows. Melatonin receptor agonists such as melatonin supplements gain relative importance closer to the suicide attempt (i.e., shorter prediction windows).”\n",
    "\n",
    "## 2. Understand the data"
   ]
  },
  {
   "cell_type": "code",
   "execution_count": 8,
   "metadata": {},
   "outputs": [],
   "source": [
    "import numpy as np \n",
    "import pandas as pd \n",
    "baseline = pd.read_csv(\"../../data/t1_beta.csv\")"
   ]
  },
  {
   "cell_type": "code",
   "execution_count": 9,
   "metadata": {},
   "outputs": [
    {
     "data": {
      "text/html": [
       "<div>\n",
       "<style scoped>\n",
       "    .dataframe tbody tr th:only-of-type {\n",
       "        vertical-align: middle;\n",
       "    }\n",
       "\n",
       "    .dataframe tbody tr th {\n",
       "        vertical-align: top;\n",
       "    }\n",
       "\n",
       "    .dataframe thead th {\n",
       "        text-align: right;\n",
       "    }\n",
       "</style>\n",
       "<table border=\"1\" class=\"dataframe\">\n",
       "  <thead>\n",
       "    <tr style=\"text-align: right;\">\n",
       "      <th></th>\n",
       "      <th>Participant_ID</th>\n",
       "      <th>wave</th>\n",
       "      <th>today</th>\n",
       "      <th>INT_ID</th>\n",
       "      <th>phone</th>\n",
       "      <th>Postcode</th>\n",
       "      <th>dob</th>\n",
       "      <th>doby</th>\n",
       "      <th>dobm</th>\n",
       "      <th>dobd</th>\n",
       "      <th>...</th>\n",
       "      <th>OME_over90</th>\n",
       "      <th>threeorMoreCC</th>\n",
       "      <th>fourorMoreCC</th>\n",
       "      <th>Deceased1</th>\n",
       "      <th>Withdrew_self</th>\n",
       "      <th>Withdrawn_all</th>\n",
       "      <th>Cannabis_12m</th>\n",
       "      <th>Cannabis12m_notbaseline</th>\n",
       "      <th>Cannabisbaseline_not12m</th>\n",
       "      <th>Cannabisbaseline_12m</th>\n",
       "    </tr>\n",
       "  </thead>\n",
       "  <tbody>\n",
       "    <tr>\n",
       "      <th>0</th>\n",
       "      <td>26885</td>\n",
       "      <td>0</td>\n",
       "      <td>6/25/2013</td>\n",
       "      <td>TM</td>\n",
       "      <td>Telephone</td>\n",
       "      <td>4500</td>\n",
       "      <td>10/8/1951</td>\n",
       "      <td>1951</td>\n",
       "      <td>10</td>\n",
       "      <td>8</td>\n",
       "      <td>...</td>\n",
       "      <td>0</td>\n",
       "      <td>0</td>\n",
       "      <td>0</td>\n",
       "      <td>No</td>\n",
       "      <td></td>\n",
       "      <td>0</td>\n",
       "      <td>No</td>\n",
       "      <td>No</td>\n",
       "      <td>No</td>\n",
       "      <td>No</td>\n",
       "    </tr>\n",
       "    <tr>\n",
       "      <th>1</th>\n",
       "      <td>27928</td>\n",
       "      <td>0</td>\n",
       "      <td>10/25/2013</td>\n",
       "      <td>Don't Know</td>\n",
       "      <td>Telephone</td>\n",
       "      <td>3020</td>\n",
       "      <td>3/26/1974</td>\n",
       "      <td>1974</td>\n",
       "      <td>3</td>\n",
       "      <td>26</td>\n",
       "      <td>...</td>\n",
       "      <td>0</td>\n",
       "      <td>0</td>\n",
       "      <td>0</td>\n",
       "      <td>No</td>\n",
       "      <td></td>\n",
       "      <td>0</td>\n",
       "      <td>No</td>\n",
       "      <td>No</td>\n",
       "      <td>No</td>\n",
       "      <td>No</td>\n",
       "    </tr>\n",
       "    <tr>\n",
       "      <th>2</th>\n",
       "      <td>27112</td>\n",
       "      <td>0</td>\n",
       "      <td>8/23/2013</td>\n",
       "      <td>Other</td>\n",
       "      <td>Telephone</td>\n",
       "      <td>5052</td>\n",
       "      <td>11/8/1960</td>\n",
       "      <td>1960</td>\n",
       "      <td>11</td>\n",
       "      <td>8</td>\n",
       "      <td>...</td>\n",
       "      <td>0</td>\n",
       "      <td>1</td>\n",
       "      <td>0</td>\n",
       "      <td>No</td>\n",
       "      <td>Yes</td>\n",
       "      <td>1</td>\n",
       "      <td>No</td>\n",
       "      <td>No</td>\n",
       "      <td>No</td>\n",
       "      <td>No</td>\n",
       "    </tr>\n",
       "    <tr>\n",
       "      <th>3</th>\n",
       "      <td>26719</td>\n",
       "      <td>0</td>\n",
       "      <td>6/20/2013</td>\n",
       "      <td>CO</td>\n",
       "      <td>Telephone</td>\n",
       "      <td>5276</td>\n",
       "      <td>7/15/1950</td>\n",
       "      <td>1950</td>\n",
       "      <td>7</td>\n",
       "      <td>15</td>\n",
       "      <td>...</td>\n",
       "      <td>0</td>\n",
       "      <td>0</td>\n",
       "      <td>0</td>\n",
       "      <td>Yes</td>\n",
       "      <td></td>\n",
       "      <td>2</td>\n",
       "      <td>No</td>\n",
       "      <td>No</td>\n",
       "      <td>No</td>\n",
       "      <td>No</td>\n",
       "    </tr>\n",
       "    <tr>\n",
       "      <th>4</th>\n",
       "      <td>28473</td>\n",
       "      <td>0</td>\n",
       "      <td>1/7/2014</td>\n",
       "      <td>Don't Know</td>\n",
       "      <td>Telephone</td>\n",
       "      <td>4575</td>\n",
       "      <td>7/30/1948</td>\n",
       "      <td>1948</td>\n",
       "      <td>7</td>\n",
       "      <td>30</td>\n",
       "      <td>...</td>\n",
       "      <td>0</td>\n",
       "      <td>1</td>\n",
       "      <td>1</td>\n",
       "      <td>No</td>\n",
       "      <td></td>\n",
       "      <td>0</td>\n",
       "      <td>No</td>\n",
       "      <td>No</td>\n",
       "      <td>No</td>\n",
       "      <td>No</td>\n",
       "    </tr>\n",
       "  </tbody>\n",
       "</table>\n",
       "<p>5 rows × 2903 columns</p>\n",
       "</div>"
      ],
      "text/plain": [
       "   Participant_ID  wave       today      INT_ID      phone  Postcode  \\\n",
       "0           26885     0   6/25/2013          TM  Telephone      4500   \n",
       "1           27928     0  10/25/2013  Don't Know  Telephone      3020   \n",
       "2           27112     0   8/23/2013       Other  Telephone      5052   \n",
       "3           26719     0   6/20/2013          CO  Telephone      5276   \n",
       "4           28473     0    1/7/2014  Don't Know  Telephone      4575   \n",
       "\n",
       "         dob  doby  dobm  dobd  ...  OME_over90 threeorMoreCC fourorMoreCC  \\\n",
       "0  10/8/1951  1951    10     8  ...           0             0            0   \n",
       "1  3/26/1974  1974     3    26  ...           0             0            0   \n",
       "2  11/8/1960  1960    11     8  ...           0             1            0   \n",
       "3  7/15/1950  1950     7    15  ...           0             0            0   \n",
       "4  7/30/1948  1948     7    30  ...           0             1            1   \n",
       "\n",
       "  Deceased1 Withdrew_self Withdrawn_all Cannabis_12m Cannabis12m_notbaseline  \\\n",
       "0        No                           0           No                      No   \n",
       "1        No                           0           No                      No   \n",
       "2        No           Yes             1           No                      No   \n",
       "3       Yes                           2           No                      No   \n",
       "4        No                           0           No                      No   \n",
       "\n",
       "  Cannabisbaseline_not12m Cannabisbaseline_12m  \n",
       "0                      No                   No  \n",
       "1                      No                   No  \n",
       "2                      No                   No  \n",
       "3                      No                   No  \n",
       "4                      No                   No  \n",
       "\n",
       "[5 rows x 2903 columns]"
      ]
     },
     "execution_count": 9,
     "metadata": {},
     "output_type": "execute_result"
    }
   ],
   "source": [
    "baseline.head()"
   ]
  },
  {
   "cell_type": "code",
   "execution_count": 10,
   "metadata": {},
   "outputs": [
    {
     "name": "stdout",
     "output_type": "stream",
     "text": [
      "Shape: (1514, 2903)\n"
     ]
    }
   ],
   "source": [
    "print(\"Shape:\", baseline.shape)"
   ]
  },
  {
   "cell_type": "markdown",
   "metadata": {},
   "source": [
    "We can see that there are 1514 rows with 2903 variables for the baseline data."
   ]
  },
  {
   "cell_type": "code",
   "execution_count": 3,
   "metadata": {},
   "outputs": [
    {
     "name": "stdout",
     "output_type": "stream",
     "text": [
      "Untitled.ipynb  \u001b[31mmodel1_vars.txt\u001b[m\u001b[m\r\n"
     ]
    }
   ],
   "source": [
    "# Variables we want are saved in a txt file in the current directory \n",
    "!ls"
   ]
  },
  {
   "cell_type": "code",
   "execution_count": 56,
   "metadata": {},
   "outputs": [],
   "source": [
    "filename = \"model1_vars.txt\"\n",
    "\n",
    "# using the with construct closes the file automatically when finished with it\n",
    "with open(filename, \"r\") as file:\n",
    "    variables = file.readlines()\n",
    "variables = [i.strip() for i in variables]\n",
    "\n",
    "# Now we subset the data based on the variables we are intersted in. \n",
    "model1_data = df[variables]"
   ]
  },
  {
   "cell_type": "code",
   "execution_count": 76,
   "metadata": {},
   "outputs": [],
   "source": [
    "# Ideation\n",
    "x = model1_data.drop('Suicidal_Thoughts_12m', axis=1)\n",
    "x =x.replace(\" \", np.NaN)\n",
    "\n",
    "y = model1_data[['Suicidal_Thoughts_12m']]\n",
    "\n",
    "# Attempts\n",
    "# x = model1_data.drop('Suicide_Attempts_12m', axis=1)\n",
    "# y = model1_data[['Suicide_Attempts_12m']]"
   ]
  },
  {
   "cell_type": "code",
   "execution_count": 86,
   "metadata": {},
   "outputs": [
    {
     "data": {
      "text/plain": [
       "['Suicide_Plan_Mthd_12m',\n",
       " 'Suicide_Plan_gun',\n",
       " 'Suicide_Plan_carb_monox',\n",
       " 'Suicide_Plan_cut_stab',\n",
       " 'Suicide_Plan_pills',\n",
       " 'Suicide_Plan_jump_height',\n",
       " 'Suicide_Plan_jump_train',\n",
       " 'Suicide_Plan_hang',\n",
       " 'Suicide_Plan_od_heroin',\n",
       " 'Suicide_Plan_od_op',\n",
       " 'Suicide_Plan_choke',\n",
       " 'Suicide_Attempt_gun',\n",
       " 'Suicide_Attempt_carb_monox',\n",
       " 'Suicide_Attempt_cut_stab',\n",
       " 'Suicide_Attempt_pills',\n",
       " 'Suicide_Attempt_jump_hght',\n",
       " 'Suicide_Attempt_jump_train',\n",
       " 'Suicide_Attempt_hang',\n",
       " 'Suicide_Attempt_od_heroin',\n",
       " 'Suicide_Attempt_od_op',\n",
       " 'Suicide_Attempt_choke',\n",
       " 'Suicide_Attempt_drown',\n",
       " 'Suicide_Attempt_other',\n",
       " 'Suicide_Attempt_other_sp']"
      ]
     },
     "execution_count": 86,
     "metadata": {},
     "output_type": "execute_result"
    }
   ],
   "source": [
    "to_drop1 = variables[21:32]\n",
    "to_drop2 = variables[38:51]\n",
    "\n",
    "to_drop = to_drop1 + to_drop2"
   ]
  },
  {
   "cell_type": "markdown",
   "metadata": {},
   "source": [
    "# 3. Fit the model(s)\n",
    "\n",
    "Here we will be testing many models:\n",
    "1. Logistic regression\n",
    "2. Support Vector Machines\n",
    "3. Tree models\n",
    "4. Artificial Neural Networks\n",
    "\n",
    "### 3.1. Logistic Regression"
   ]
  },
  {
   "cell_type": "code",
   "execution_count": null,
   "metadata": {},
   "outputs": [],
   "source": []
  },
  {
   "cell_type": "markdown",
   "metadata": {},
   "source": [
    "### 3.2. Support Vector Machine"
   ]
  },
  {
   "cell_type": "code",
   "execution_count": null,
   "metadata": {},
   "outputs": [],
   "source": []
  },
  {
   "cell_type": "markdown",
   "metadata": {},
   "source": [
    "### 3.3. Tree Models"
   ]
  },
  {
   "cell_type": "code",
   "execution_count": null,
   "metadata": {},
   "outputs": [],
   "source": []
  },
  {
   "cell_type": "markdown",
   "metadata": {},
   "source": [
    "### 3.4. Artificial Neural Network"
   ]
  },
  {
   "cell_type": "code",
   "execution_count": null,
   "metadata": {},
   "outputs": [],
   "source": []
  },
  {
   "cell_type": "markdown",
   "metadata": {},
   "source": [
    "**REFERENCES**\n",
    "\n",
    "Franklin, J., Riberio, J., Fox, K., Bentley K, Kleiman, E., Huang, X., & Nock, M. (2017). \t\t\t     \tPsychological Bulletin , 187-232.\n",
    "\n",
    "Hack, L., Jovanovic, T., Carter, S., Ressler, K., & Smith, A. (2017). Suicide prediction using machine \t   \tlearning techniques in screening clinician derived data. Biological Psychiatry, 361-361.\n",
    "\n",
    "Walsh, C., Ribeiro, J., & Franklin, J. (2017). Predicting Risk of Suicide Attempts Over Time Through   \tMachine Learning. Clinical Psychological Science, 457-469.\n",
    "\n",
    "# End."
   ]
  }
 ],
 "metadata": {
  "kernelspec": {
   "display_name": "Python 3",
   "language": "python",
   "name": "python3"
  },
  "language_info": {
   "codemirror_mode": {
    "name": "ipython",
    "version": 3
   },
   "file_extension": ".py",
   "mimetype": "text/x-python",
   "name": "python",
   "nbconvert_exporter": "python",
   "pygments_lexer": "ipython3",
   "version": "3.7.3"
  }
 },
 "nbformat": 4,
 "nbformat_minor": 2
}
